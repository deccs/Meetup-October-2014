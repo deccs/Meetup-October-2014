{
 "metadata": {
  "name": "",
  "signature": "sha256:7a20fff6e3478be19746e958af799c5c1347326cd68a4855159aef62075f0ead"
 },
 "nbformat": 3,
 "nbformat_minor": 0,
 "worksheets": [
  {
   "cells": [
    {
     "cell_type": "markdown",
     "metadata": {},
     "source": [
      "Logistic Regression using Theano\n",
      "---"
     ]
    },
    {
     "cell_type": "code",
     "collapsed": false,
     "input": [
      "#Import required modules\n",
      "import numpy\n",
      "import theano\n",
      "import theano.tensor as T\n",
      "rng = numpy.random"
     ],
     "language": "python",
     "metadata": {},
     "outputs": [],
     "prompt_number": 1
    },
    {
     "cell_type": "code",
     "collapsed": false,
     "input": [
      "#load trainData and targets, get Tuple D, define number of training steps\n",
      "train_data=numpy.load(\"titanic_train.npy\")\n",
      "train_supervision=numpy.load(\"train_targets.npy\")\n",
      "D=(train_data,train_supervision)\n",
      "ncols=train_data.shape[1]\n",
      "feats=ncols\n",
      "training_steps = 40000"
     ],
     "language": "python",
     "metadata": {},
     "outputs": [],
     "prompt_number": 2
    },
    {
     "cell_type": "code",
     "collapsed": false,
     "input": [
      "# Declare Theano symbolic variables\n",
      "x = T.matrix(\"x\")\n",
      "y = T.vector(\"y\")\n",
      "w = theano.shared(rng.randn(feats), name=\"w\")\n",
      "b = theano.shared(0., name=\"b\")\n",
      "scale = theano.function([], w, updates=[(w, w*0.001)])\n",
      "print \"Initial model:\"\n",
      "scale()\n",
      "print w.get_value(), b.get_value()\n",
      "\n",
      "# Construct Theano expression graph\n",
      "p_1 = 1 / (1 + T.exp(-T.dot(x, w) - b))   # Probability that target = 1\n",
      "prediction = p_1 > 0.5                    # The prediction thresholded\n",
      "xent = -y * T.log(p_1) - (1-y) * T.log(1-p_1) # Cross-entropy loss function\n",
      "cost = xent.mean() + 0.01 * (w ** 2).sum()# The cost to minimize\n",
      "gw, gb = T.grad(cost, [w, b])             # Compute the gradient of the cost\n",
      "                                          # (we shall return to this in a\n",
      "                                          # following section of this tutorial)\n",
      "# Compile\n",
      "train = theano.function(inputs=[x,y],outputs=[prediction, xent],updates=((w, w - 0.001 * gw), (b, b - 0.001 * gb)))\n",
      "predict = theano.function(inputs=[x], outputs=prediction)\n",
      "\n",
      "# Train\n",
      "for i in range(training_steps):\n",
      "    pred, err = train(D[0], D[1])\n",
      "\n",
      "print \"Final model:\"\n",
      "print w.get_value(), b.get_value()"
     ],
     "language": "python",
     "metadata": {},
     "outputs": [
      {
       "output_type": "stream",
       "stream": "stdout",
       "text": [
        "Initial model:\n",
        "[-0.00031457  0.00045731  0.00057559 -0.00074465 -0.00126293] 0.0\n",
        "Final model:"
       ]
      },
      {
       "output_type": "stream",
       "stream": "stdout",
       "text": [
        "\n",
        "[-0.39033241 -0.12450176  0.13094632 -1.35921002  0.00541299] 1.15937573257\n"
       ]
      }
     ],
     "prompt_number": 3
    },
    {
     "cell_type": "code",
     "collapsed": false,
     "input": [
      "#Load Test Data\n",
      "testData=numpy.load(\"titanic_test.npy\")"
     ],
     "language": "python",
     "metadata": {},
     "outputs": [],
     "prompt_number": 4
    },
    {
     "cell_type": "code",
     "collapsed": false,
     "input": [
      "#Predict Survival\n",
      "testPassengerStartIndex=892\n",
      "outputs = [[x[0]+testPassengerStartIndex,x[1]] for x in enumerate(predict(testData))]"
     ],
     "language": "python",
     "metadata": {},
     "outputs": [],
     "prompt_number": 5
    },
    {
     "cell_type": "code",
     "collapsed": false,
     "input": [
      "#Prepare file for submission\n",
      "numpy.savetxt('data/submission_th_1.csv', outputs, delimiter=',', fmt='%d,%d', \n",
      "            header='PassengerId,Survived', comments = '')"
     ],
     "language": "python",
     "metadata": {},
     "outputs": [],
     "prompt_number": 6
    },
    {
     "cell_type": "markdown",
     "metadata": {},
     "source": [
      "Score on Kaggle: 0.76555\n",
      "----"
     ]
    },
    {
     "cell_type": "code",
     "collapsed": false,
     "input": [],
     "language": "python",
     "metadata": {},
     "outputs": [],
     "prompt_number": 6
    }
   ],
   "metadata": {}
  }
 ]
}